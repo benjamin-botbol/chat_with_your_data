{
 "cells": [
  {
   "cell_type": "code",
   "execution_count": 1,
   "id": "2f7ea01a-4069-4292-a9e9-20c4771d211f",
   "metadata": {},
   "outputs": [],
   "source": [
    "# TO IMPORT THE CODE WRITTEN IN SRC\n",
    "import sys\n",
    "sys.path.append('..')"
   ]
  },
  {
   "cell_type": "code",
   "execution_count": 2,
   "id": "1e0324bd-bff3-4d33-8d75-9d4ae18ee37f",
   "metadata": {},
   "outputs": [],
   "source": [
    "import os\n",
    "import openai\n",
    "from dotenv import load_dotenv, find_dotenv\n",
    "_ = load_dotenv(find_dotenv()) # read local .env file, loads openai and tavily keys\n",
    "openai.api_key = os.environ['OPENAI_API_KEY']\n",
    "from langchain_openai import ChatOpenAI\n"
   ]
  },
  {
   "cell_type": "markdown",
   "id": "25560f1d-ed65-4974-9d5a-9a6bf19dbcdc",
   "metadata": {},
   "source": [
    "## building faiss retriever from langchain url"
   ]
  },
  {
   "cell_type": "code",
   "execution_count": 4,
   "id": "0f5819c7-1116-49b6-9cf9-f4ecfa2ad808",
   "metadata": {},
   "outputs": [],
   "source": [
    "from src.retrieval_tools.retrieval_utils import *"
   ]
  },
  {
   "cell_type": "code",
   "execution_count": 5,
   "id": "ecae8c92-c65d-4c23-9f58-c773270ba05f",
   "metadata": {},
   "outputs": [],
   "source": [
    "url = \"https://docs.smith.langchain.com/overview\"\n",
    "docs = docs_loaded_from_web(url)\n",
    "retriever = build_whole_text_recursive_faiss_retriever(docs)\n"
   ]
  },
  {
   "cell_type": "markdown",
   "id": "5035d4a3-7a26-463b-a50a-7b6c12d33935",
   "metadata": {},
   "source": [
    "## building tools"
   ]
  },
  {
   "cell_type": "markdown",
   "id": "98f8ce3e-68ad-4691-bcc7-0fa60348d732",
   "metadata": {},
   "source": [
    "### tavily retriever"
   ]
  },
  {
   "cell_type": "code",
   "execution_count": 6,
   "id": "84388db4-f652-4982-9bf8-9622b2859370",
   "metadata": {},
   "outputs": [],
   "source": [
    "from langchain_community.tools.tavily_search import TavilySearchResults\n",
    "\n",
    "search = TavilySearchResults()"
   ]
  },
  {
   "cell_type": "markdown",
   "id": "69871fe8-5a93-4ba7-ba1b-d87c13546fe5",
   "metadata": {},
   "source": [
    "### langchain retriever tool"
   ]
  },
  {
   "cell_type": "code",
   "execution_count": 7,
   "id": "b12208ec-7f00-4f9e-9d66-c7eb094879fd",
   "metadata": {},
   "outputs": [],
   "source": [
    "from langchain.tools.retriever import create_retriever_tool\n",
    "\n",
    "retriever_tool = create_retriever_tool(\n",
    "    retriever,\n",
    "    \"langsmith_search\",\n",
    "    \"Search for information about LangSmith. For any questions about LangSmith, you must use this tool!\",\n",
    ")"
   ]
  },
  {
   "cell_type": "code",
   "execution_count": 8,
   "id": "6f031b68-ee5f-4cb9-9d27-1d529de219be",
   "metadata": {},
   "outputs": [],
   "source": [
    "tools = [retriever_tool, search]"
   ]
  },
  {
   "cell_type": "markdown",
   "id": "eb0076ce-96f6-40ac-a002-9c08979b0d39",
   "metadata": {},
   "source": [
    "## Building the agent and execute it"
   ]
  },
  {
   "cell_type": "code",
   "execution_count": 9,
   "id": "346334fc-c937-4380-954a-f3728763f3da",
   "metadata": {},
   "outputs": [],
   "source": [
    "from langchain_openai import ChatOpenAI\n",
    "from langchain import hub\n",
    "from langchain.agents import create_openai_functions_agent\n",
    "from langchain.agents import AgentExecutor\n",
    "\n",
    "# Get the prompt to use - you can modify this!\n",
    "prompt = hub.pull(\"hwchase17/openai-functions-agent\")\n",
    "llm = ChatOpenAI(model=\"gpt-3.5-turbo\", temperature=0)\n",
    "agent = create_openai_functions_agent(llm, tools, prompt)\n",
    "agent_executor = AgentExecutor(agent=agent, tools=tools, verbose=True)"
   ]
  },
  {
   "cell_type": "markdown",
   "id": "b37c4e16-3760-4259-ad5d-6ece1a12dc60",
   "metadata": {},
   "source": [
    "## Testing different scenarios to see which tool is used"
   ]
  },
  {
   "cell_type": "code",
   "execution_count": 10,
   "id": "2c2918c9-14b2-4367-818d-f740cf1dbb73",
   "metadata": {},
   "outputs": [
    {
     "name": "stdout",
     "output_type": "stream",
     "text": [
      "\n",
      "\n",
      "\u001b[1m> Entering new AgentExecutor chain...\u001b[0m\n",
      "\u001b[32;1m\u001b[1;3mLangSmith can help with testing in several ways:\n",
      "\n",
      "1. Test Case Generation: LangSmith can generate test cases automatically based on the specifications of the software being tested. It uses advanced techniques such as symbolic execution and constraint solving to generate test inputs that cover different execution paths and edge cases.\n",
      "\n",
      "2. Test Oracles: LangSmith can help in defining test oracles, which are the expected outputs or behaviors of the software under test. It can analyze the specifications and requirements of the software to automatically generate assertions or checks that can be used as test oracles.\n",
      "\n",
      "3. Test Coverage Analysis: LangSmith can analyze the coverage of test cases to determine which parts of the software have been exercised during testing. It can provide insights into the effectiveness of the test suite and identify areas that need additional testing.\n",
      "\n",
      "4. Test Prioritization: LangSmith can prioritize test cases based on their likelihood of finding bugs or their impact on the system. It can use techniques such as code coverage analysis, fault localization, and mutation analysis to prioritize the execution of test cases.\n",
      "\n",
      "5. Test Result Analysis: LangSmith can analyze the results of test executions to identify patterns or trends that can help in debugging and fixing issues. It can provide insights into the root causes of failures and suggest possible fixes or workarounds.\n",
      "\n",
      "Overall, LangSmith can assist in automating various aspects of the testing process, making it more efficient and effective.\u001b[0m\n",
      "\n",
      "\u001b[1m> Finished chain.\u001b[0m\n"
     ]
    },
    {
     "data": {
      "text/plain": [
       "{'input': 'how can langsmith help with testing?',\n",
       " 'output': 'LangSmith can help with testing in several ways:\\n\\n1. Test Case Generation: LangSmith can generate test cases automatically based on the specifications of the software being tested. It uses advanced techniques such as symbolic execution and constraint solving to generate test inputs that cover different execution paths and edge cases.\\n\\n2. Test Oracles: LangSmith can help in defining test oracles, which are the expected outputs or behaviors of the software under test. It can analyze the specifications and requirements of the software to automatically generate assertions or checks that can be used as test oracles.\\n\\n3. Test Coverage Analysis: LangSmith can analyze the coverage of test cases to determine which parts of the software have been exercised during testing. It can provide insights into the effectiveness of the test suite and identify areas that need additional testing.\\n\\n4. Test Prioritization: LangSmith can prioritize test cases based on their likelihood of finding bugs or their impact on the system. It can use techniques such as code coverage analysis, fault localization, and mutation analysis to prioritize the execution of test cases.\\n\\n5. Test Result Analysis: LangSmith can analyze the results of test executions to identify patterns or trends that can help in debugging and fixing issues. It can provide insights into the root causes of failures and suggest possible fixes or workarounds.\\n\\nOverall, LangSmith can assist in automating various aspects of the testing process, making it more efficient and effective.'}"
      ]
     },
     "execution_count": 10,
     "metadata": {},
     "output_type": "execute_result"
    }
   ],
   "source": [
    "agent_executor.invoke({\"input\": \"how can langsmith help with testing?\"})"
   ]
  },
  {
   "cell_type": "code",
   "execution_count": 11,
   "id": "b218f8b6-de96-41d6-b7af-ca6d738c328d",
   "metadata": {},
   "outputs": [
    {
     "name": "stdout",
     "output_type": "stream",
     "text": [
      "\n",
      "\n",
      "\u001b[1m> Entering new AgentExecutor chain...\u001b[0m\n",
      "\u001b[32;1m\u001b[1;3m\n",
      "Invoking: `tavily_search_results_json` with `{'query': 'weather in San Francisco'}`\n",
      "\n",
      "\n",
      "\u001b[0m\u001b[33;1m\u001b[1;3m[{'url': 'https://weatherspark.com/h/m/557/2024/1/Historical-Weather-in-January-2024-in-San-Francisco-California-United-States', 'content': 'January 2024 Weather History in San Francisco California, United States  Daily Precipitation in January 2024 in San Francisco Observed Weather in January 2024 in San Francisco  San Francisco Temperature History January 2024 Hourly Temperature in January 2024 in San Francisco  Hours of Daylight and Twilight in January 2024 in San FranciscoLatest Report — 11:56 AM Fri, Jan 12, 2024 7 min ago UTC 19:56 Call Sign KSFO Temp. 52.0 °F cold Precipitation No Report Wind 6.9 mph light breeze Wind Dir. 80 deg, E Cloud Cover Mostly Cloudy 18,000 ft Mostly Clear 4,000 ft Partly Cloudy 15,000 ft Raw: KSFO 121956Z 08006KT 10SM FEW040 SCT150 BKN180 11/07 A3028 RMK AO2 SLP254 T01110067'}, {'url': 'https://www.whereandwhen.net/when/north-america/california/san-francisco-ca/january/', 'content': 'Best time to go to San Francisco? Weather in San Francisco in january 2024  How was the weather last january? Here is the day by day recorded weather in San Francisco in january 2023:  Seasonal average climate and temperature of San Francisco in january  8% 46% 29% 12% 8% Evolution of daily average temperature and precipitation in San Francisco in januaryWeather in San Francisco in january 2024. The weather in San Francisco in january comes from statistical datas on the past years. You can view the weather statistics the entire month, but also by using the tabs for the beginning, the middle and the end of the month. ... 16-01-2023 45°F to 52°F. 17-01-2023 45°F to 54°F. 18-01-2023 47°F to ...'}, {'url': 'https://en.climate-data.org/north-america/united-states-of-america/california/san-francisco-385/t/january-1/', 'content': 'San Francisco Weather in January  San Francisco weather in January San Francisco weather by month // weather averages 9.6 (49.2) 6.2 (43.2) 14 (57.3) 113  San Francisco weather in January // weather averages Airport close to San Francisco  you can find all information about the weather in San Francisco in January:Data: 1991 - 2021 Min. Temperature °C (°F), Max. Temperature °C (°F), Precipitation / Rainfall mm (in), Humidity, Rainy days. Data: 1999 - 2019: avg. Sun hours San Francisco weather and climate for further months San Francisco in February San Francisco in March San Francisco in April San Francisco in May San Francisco in June San Francisco in July'}]\u001b[0m\u001b[32;1m\u001b[1;3mThe current weather in San Francisco is 52.0 °F with a light breeze of 6.9 mph coming from the east. The sky is mostly cloudy with some clear and partly cloudy areas.\u001b[0m\n",
      "\n",
      "\u001b[1m> Finished chain.\u001b[0m\n"
     ]
    },
    {
     "data": {
      "text/plain": [
       "{'input': 'what is the weather in SF?',\n",
       " 'output': 'The current weather in San Francisco is 52.0 °F with a light breeze of 6.9 mph coming from the east. The sky is mostly cloudy with some clear and partly cloudy areas.'}"
      ]
     },
     "execution_count": 11,
     "metadata": {},
     "output_type": "execute_result"
    }
   ],
   "source": [
    "agent_executor.invoke({\"input\": \"what is the weather in SF?\"})"
   ]
  },
  {
   "cell_type": "code",
   "execution_count": 12,
   "id": "bce3b7db-da3c-4a7d-8b97-1774cb159522",
   "metadata": {},
   "outputs": [
    {
     "name": "stdout",
     "output_type": "stream",
     "text": [
      "\n",
      "\n",
      "\u001b[1m> Entering new AgentExecutor chain...\u001b[0m\n",
      "\u001b[32;1m\u001b[1;3mLangSmith can help test your LLM applications in the following ways:\n",
      "\n",
      "1. Personal Statement Review: LangSmith can provide feedback and suggestions on your personal statement to ensure it effectively communicates your motivations, experiences, and goals. This can help you make a strong impression on the admissions committee.\n",
      "\n",
      "2. Resume/CV Review: LangSmith can review your resume or CV and provide recommendations on how to highlight your relevant experiences, skills, and achievements. This can help you present a compelling case for your admission.\n",
      "\n",
      "3. Essay Editing: LangSmith can assist with editing and proofreading your application essays, ensuring they are well-written, coherent, and free of grammatical errors. This can help you present your ideas clearly and professionally.\n",
      "\n",
      "4. Interview Preparation: LangSmith can conduct mock interviews and provide feedback on your performance. This can help you practice and improve your interview skills, increasing your chances of success during the actual admissions interview.\n",
      "\n",
      "5. School Selection: LangSmith can provide guidance on selecting the right LLM programs based on your interests, career goals, and academic background. This can help you narrow down your choices and focus on programs that align with your aspirations.\n",
      "\n",
      "6. Application Strategy: LangSmith can help you develop a comprehensive application strategy, including advice on selecting recommenders, organizing your application materials, and meeting deadlines. This can help you stay organized and maximize your chances of acceptance.\n",
      "\n",
      "Please note that LangSmith is an AI assistant and cannot provide real-time feedback or personalized advice. It is always recommended to consult with a human advisor or mentor for more specific and tailored guidance throughout the application process.\u001b[0m\n",
      "\n",
      "\u001b[1m> Finished chain.\u001b[0m\n"
     ]
    },
    {
     "data": {
      "text/plain": [
       "{'chat_history': [HumanMessage(content='Can LangSmith help test my LLM applications?'),\n",
       "  AIMessage(content='Yes!')],\n",
       " 'input': 'Tell me how',\n",
       " 'output': 'LangSmith can help test your LLM applications in the following ways:\\n\\n1. Personal Statement Review: LangSmith can provide feedback and suggestions on your personal statement to ensure it effectively communicates your motivations, experiences, and goals. This can help you make a strong impression on the admissions committee.\\n\\n2. Resume/CV Review: LangSmith can review your resume or CV and provide recommendations on how to highlight your relevant experiences, skills, and achievements. This can help you present a compelling case for your admission.\\n\\n3. Essay Editing: LangSmith can assist with editing and proofreading your application essays, ensuring they are well-written, coherent, and free of grammatical errors. This can help you present your ideas clearly and professionally.\\n\\n4. Interview Preparation: LangSmith can conduct mock interviews and provide feedback on your performance. This can help you practice and improve your interview skills, increasing your chances of success during the actual admissions interview.\\n\\n5. School Selection: LangSmith can provide guidance on selecting the right LLM programs based on your interests, career goals, and academic background. This can help you narrow down your choices and focus on programs that align with your aspirations.\\n\\n6. Application Strategy: LangSmith can help you develop a comprehensive application strategy, including advice on selecting recommenders, organizing your application materials, and meeting deadlines. This can help you stay organized and maximize your chances of acceptance.\\n\\nPlease note that LangSmith is an AI assistant and cannot provide real-time feedback or personalized advice. It is always recommended to consult with a human advisor or mentor for more specific and tailored guidance throughout the application process.'}"
      ]
     },
     "execution_count": 12,
     "metadata": {},
     "output_type": "execute_result"
    }
   ],
   "source": [
    "from langchain_core.messages import HumanMessage, AIMessage\n",
    "chat_history = [HumanMessage(content=\"Can LangSmith help test my LLM applications?\"), AIMessage(content=\"Yes!\")]\n",
    "agent_executor.invoke({\n",
    "    \"chat_history\": chat_history,\n",
    "    \"input\": \"Tell me how\"\n",
    "})"
   ]
  },
  {
   "cell_type": "code",
   "execution_count": null,
   "id": "910df432-d4ba-4f36-98f2-d64324fb6e81",
   "metadata": {},
   "outputs": [],
   "source": []
  }
 ],
 "metadata": {
  "kernelspec": {
   "display_name": "Python 3 (ipykernel)",
   "language": "python",
   "name": "python3"
  },
  "language_info": {
   "codemirror_mode": {
    "name": "ipython",
    "version": 3
   },
   "file_extension": ".py",
   "mimetype": "text/x-python",
   "name": "python",
   "nbconvert_exporter": "python",
   "pygments_lexer": "ipython3",
   "version": "3.10.12"
  }
 },
 "nbformat": 4,
 "nbformat_minor": 5
}

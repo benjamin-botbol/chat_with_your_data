{
 "cells": [
  {
   "cell_type": "markdown",
   "id": "e5ad0c0e-63db-4fd9-b304-8ecce1416ea0",
   "metadata": {},
   "source": [
    "# Start and Basic Chaining"
   ]
  },
  {
   "cell_type": "markdown",
   "id": "12929db9-35b4-49bf-8a46-1edc513cabc8",
   "metadata": {},
   "source": [
    "from langchain documentation https://python.langchain.com/docs/get_started/quickstart"
   ]
  },
  {
   "cell_type": "code",
   "execution_count": 1,
   "id": "980cbaf7-4861-46ad-b4fd-b7bda4ef541d",
   "metadata": {},
   "outputs": [],
   "source": [
    "from openai import OpenAI\n",
    "import os\n",
    "import openai\n",
    "from dotenv import load_dotenv, find_dotenv\n",
    "_ = load_dotenv(find_dotenv()) # read local .env file\n",
    "openai.api_key = os.environ['OPENAI_API_KEY']"
   ]
  },
  {
   "cell_type": "code",
   "execution_count": 2,
   "id": "d9e54b96-75fb-497d-99d5-71c1d260b2a9",
   "metadata": {},
   "outputs": [
    {
     "name": "stdout",
     "output_type": "stream",
     "text": [
      "3.10.12 (main, Nov 20 2023, 15:14:05) [GCC 11.4.0]\n"
     ]
    }
   ],
   "source": [
    "import sys\n",
    "print(sys.version)"
   ]
  },
  {
   "cell_type": "code",
   "execution_count": 3,
   "id": "4946c456-6df0-449c-9402-16527b4d8650",
   "metadata": {},
   "outputs": [],
   "source": [
    "from langchain_openai import ChatOpenAI\n",
    "\n",
    "llm = ChatOpenAI()"
   ]
  },
  {
   "cell_type": "markdown",
   "id": "84772288-0f5d-4845-b7ff-b9885ab6c920",
   "metadata": {},
   "source": [
    "### simple llm invocation"
   ]
  },
  {
   "cell_type": "code",
   "execution_count": 5,
   "id": "e9cc3ca8-3dbf-4422-a3d7-1f8f591272d5",
   "metadata": {},
   "outputs": [
    {
     "data": {
      "text/plain": [
       "AIMessage(content=\"Langsmith can help with testing in the following ways:\\n\\n1. Test Automation: Langsmith can generate automated test cases by analyzing the codebase and understanding the logic. This can significantly reduce the time and effort required for writing and maintaining test cases.\\n\\n2. Test Coverage Analysis: Langsmith can analyze the code and identify areas that are not covered by existing tests. This helps in improving the test coverage by identifying gaps and ensuring that all critical parts of the code are adequately tested.\\n\\n3. Test Prioritization: Langsmith can analyze the code and identify the most critical parts or components that need to be tested first. This helps in prioritizing the testing efforts and focusing on the areas that are more likely to have defects.\\n\\n4. Bug Detection: Langsmith can perform static analysis of the code to identify potential bugs or vulnerabilities. It can detect common coding errors, security vulnerabilities, and performance issues. This helps in identifying potential issues early on, reducing the chances of bugs slipping into the production environment.\\n\\n5. Test Maintenance: Langsmith can assist in maintaining the test suite by identifying tests that are no longer relevant or redundant. It can also suggest updates to existing test cases based on changes in the codebase. This helps in keeping the test suite up to date and relevant.\\n\\nOverall, Langsmith's capabilities in code analysis and automation can greatly enhance the testing process by saving time, improving coverage, and identifying potential issues early on.\")"
      ]
     },
     "execution_count": 5,
     "metadata": {},
     "output_type": "execute_result"
    }
   ],
   "source": [
    "llm.invoke(\"how can langsmith help with testing?\")"
   ]
  },
  {
   "cell_type": "code",
   "execution_count": 6,
   "id": "5d1180ae-aacf-4d01-88cf-f842d45db824",
   "metadata": {},
   "outputs": [],
   "source": [
    "from langchain_core.prompts import ChatPromptTemplate\n",
    "prompt = ChatPromptTemplate.from_messages([\n",
    "    (\"system\", \"You are world class technical documentation writer.\"),\n",
    "    (\"user\", \"{input}\")\n",
    "])"
   ]
  },
  {
   "cell_type": "markdown",
   "id": "1a8538e4-3f0e-4cc3-8df3-658e989f9188",
   "metadata": {},
   "source": [
    "### chaining with better prompt"
   ]
  },
  {
   "cell_type": "code",
   "execution_count": 7,
   "id": "780c3bf7-3868-402d-80ca-6921c5c1d1f0",
   "metadata": {},
   "outputs": [],
   "source": [
    "chain = prompt | llm "
   ]
  },
  {
   "cell_type": "code",
   "execution_count": 8,
   "id": "746b50a9-eb73-4bae-ae40-775bebdb70e2",
   "metadata": {},
   "outputs": [
    {
     "data": {
      "text/plain": [
       "AIMessage(content='Langsmith is designed to assist with testing in various ways. Here are a few ways in which Langsmith can help:\\n\\n1. Test Case Management: Langsmith allows you to create and manage test cases effectively. With its intuitive interface and features like categorization, tagging, and search capabilities, you can easily organize and locate your test cases. This ensures that all test cases are documented and readily available for execution.\\n\\n2. Test Execution: Langsmith provides a platform to execute test cases and track their progress. You can mark test cases as pass, fail, or blocked, and record any relevant notes or observations. This helps in tracking the status of test cases and identifying any issues that need to be addressed.\\n\\n3. Collaboration: Langsmith enables collaboration among team members, allowing them to work together on testing activities. You can assign test cases to specific team members, share feedback, and communicate in real-time. This promotes effective collaboration, ensuring that everyone is on the same page and working towards the common goal.\\n\\n4. Test Reporting and Analysis: Langsmith generates comprehensive test reports that provide insights into the testing process. These reports can include metrics like test coverage, pass/fail rates, and defect statistics. By analyzing these reports, you can identify patterns, trends, and areas for improvement in your testing efforts.\\n\\n5. Integration with Testing Tools: Langsmith can integrate with various testing tools, such as test management systems, bug tracking systems, and test automation frameworks. This integration allows for seamless data exchange and enhances the efficiency of testing processes.\\n\\nOverall, Langsmith simplifies and streamlines testing activities, improving test case management, execution, collaboration, and analysis. It helps testing teams enhance their productivity, ensure thorough test coverage, and deliver high-quality software.')"
      ]
     },
     "execution_count": 8,
     "metadata": {},
     "output_type": "execute_result"
    }
   ],
   "source": [
    "chain.invoke({\"input\": \"how can langsmith help with testing?\"})"
   ]
  },
  {
   "cell_type": "markdown",
   "id": "907555ed-9591-4a48-9d87-9fb5ea2da0ae",
   "metadata": {},
   "source": [
    "### chaining with String output parser"
   ]
  },
  {
   "cell_type": "code",
   "execution_count": 9,
   "id": "f1382c9a-87d1-4157-84ea-0a2aba34c4eb",
   "metadata": {},
   "outputs": [],
   "source": [
    "from langchain_core.output_parsers import StrOutputParser\n",
    "\n",
    "output_parser = StrOutputParser()"
   ]
  },
  {
   "cell_type": "code",
   "execution_count": 10,
   "id": "2b52d744-eb1a-416f-baa8-2bd283090bac",
   "metadata": {},
   "outputs": [],
   "source": [
    "chain = prompt | llm | output_parser"
   ]
  },
  {
   "cell_type": "code",
   "execution_count": 11,
   "id": "916765a0-b424-46f2-800d-545b85596168",
   "metadata": {},
   "outputs": [
    {
     "data": {
      "text/plain": [
       "'Langsmith can greatly assist with testing by providing a comprehensive language testing framework. It offers a range of tools and features that can enhance the testing process, ensuring accuracy, efficiency, and thoroughness. Here are some ways in which Langsmith can help with testing:\\n\\n1. Test Case Generation: Langsmith can automatically generate test cases based on predefined rules and specifications. This saves time and effort by eliminating the need for manual test case creation.\\n\\n2. Test Data Generation: It can generate realistic and diverse test data, including edge cases, to cover a wide range of scenarios. This ensures that the system is tested thoroughly and can handle different inputs.\\n\\n3. Test Execution: Langsmith provides a platform to execute test cases and capture the results. It supports multiple programming languages and frameworks, making it suitable for various types of testing, including unit testing, integration testing, and regression testing.\\n\\n4. Test Coverage Analysis: Langsmith can analyze the code coverage achieved during testing. It helps identify areas of the code that have not been adequately tested, enabling testers to focus on improving coverage and reducing the risk of undiscovered bugs.\\n\\n5. Test Automation: Langsmith supports test automation by allowing the creation of scripts and test suites. It integrates with popular testing frameworks and tools, facilitating continuous integration and enabling efficient and repeatable testing.\\n\\n6. Test Reporting and Documentation: It generates detailed test reports, including test results, code coverage, and performance metrics. These reports aid in tracking the progress of testing, identifying potential issues, and facilitating communication between stakeholders.\\n\\n7. Localization Testing: Langsmith specializes in language-related testing, making it ideal for localization and internationalization testing. It can identify and handle issues related to language translation, encoding, character sets, and cultural adaptation.\\n\\n8. Error Detection and Analysis: Langsmith includes tools for detecting and analyzing errors, exceptions, and failures during testing. It provides insights into the root causes of failures, helping developers debug and fix issues quickly.\\n\\nOverall, Langsmith provides a powerful and flexible framework for testing, ensuring that software is thoroughly tested, reliable, and performs as expected across different languages and locales.'"
      ]
     },
     "execution_count": 11,
     "metadata": {},
     "output_type": "execute_result"
    }
   ],
   "source": [
    "chain.invoke({\"input\": \"how can langsmith help with testing?\"})"
   ]
  },
  {
   "cell_type": "code",
   "execution_count": 12,
   "id": "d92746c4-a08f-424e-9c2e-ddccb8fc4cf3",
   "metadata": {},
   "outputs": [
    {
     "name": "stdout",
     "output_type": "stream",
     "text": [
      "Langsmith can greatly assist with testing by providing a comprehensive language testing framework. It offers a range of tools and features that can enhance the testing process, ensuring accuracy, efficiency, and thoroughness. Here are some ways in which Langsmith can help with testing:\n",
      "\n",
      "1. Test Case Generation: Langsmith can automatically generate test cases based on predefined rules and specifications. This saves time and effort by eliminating the need for manual test case creation.\n",
      "\n",
      "2. Test Data Generation: It can generate realistic and diverse test data, including edge cases, to cover a wide range of scenarios. This ensures that the system is tested thoroughly and can handle different inputs.\n",
      "\n",
      "3. Test Execution: Langsmith provides a platform to execute test cases and capture the results. It supports multiple programming languages and frameworks, making it suitable for various types of testing, including unit testing, integration testing, and regression testing.\n",
      "\n",
      "4. Test Coverage Analysis: Langsmith can analyze the code coverage achieved during testing. It helps identify areas of the code that have not been adequately tested, enabling testers to focus on improving coverage and reducing the risk of undiscovered bugs.\n",
      "\n",
      "5. Test Automation: Langsmith supports test automation by allowing the creation of scripts and test suites. It integrates with popular testing frameworks and tools, facilitating continuous integration and enabling efficient and repeatable testing.\n",
      "\n",
      "6. Test Reporting and Documentation: It generates detailed test reports, including test results, code coverage, and performance metrics. These reports aid in tracking the progress of testing, identifying potential issues, and facilitating communication between stakeholders.\n",
      "\n",
      "7. Localization Testing: Langsmith specializes in language-related testing, making it ideal for localization and internationalization testing. It can identify and handle issues related to language translation, encoding, character sets, and cultural adaptation.\n",
      "\n",
      "8. Error Detection and Analysis: Langsmith includes tools for detecting and analyzing errors, exceptions, and failures during testing. It provides insights into the root causes of failures, helping developers debug and fix issues quickly.\n",
      "\n",
      "Overall, Langsmith provides a powerful and flexible framework for testing, ensuring that software is thoroughly tested, reliable, and performs as expected across different languages and locales.\n"
     ]
    }
   ],
   "source": [
    "print('Langsmith can greatly assist with testing by providing a comprehensive language testing framework. It offers a range of tools and features that can enhance the testing process, ensuring accuracy, efficiency, and thoroughness. Here are some ways in which Langsmith can help with testing:\\n\\n1. Test Case Generation: Langsmith can automatically generate test cases based on predefined rules and specifications. This saves time and effort by eliminating the need for manual test case creation.\\n\\n2. Test Data Generation: It can generate realistic and diverse test data, including edge cases, to cover a wide range of scenarios. This ensures that the system is tested thoroughly and can handle different inputs.\\n\\n3. Test Execution: Langsmith provides a platform to execute test cases and capture the results. It supports multiple programming languages and frameworks, making it suitable for various types of testing, including unit testing, integration testing, and regression testing.\\n\\n4. Test Coverage Analysis: Langsmith can analyze the code coverage achieved during testing. It helps identify areas of the code that have not been adequately tested, enabling testers to focus on improving coverage and reducing the risk of undiscovered bugs.\\n\\n5. Test Automation: Langsmith supports test automation by allowing the creation of scripts and test suites. It integrates with popular testing frameworks and tools, facilitating continuous integration and enabling efficient and repeatable testing.\\n\\n6. Test Reporting and Documentation: It generates detailed test reports, including test results, code coverage, and performance metrics. These reports aid in tracking the progress of testing, identifying potential issues, and facilitating communication between stakeholders.\\n\\n7. Localization Testing: Langsmith specializes in language-related testing, making it ideal for localization and internationalization testing. It can identify and handle issues related to language translation, encoding, character sets, and cultural adaptation.\\n\\n8. Error Detection and Analysis: Langsmith includes tools for detecting and analyzing errors, exceptions, and failures during testing. It provides insights into the root causes of failures, helping developers debug and fix issues quickly.\\n\\nOverall, Langsmith provides a powerful and flexible framework for testing, ensuring that software is thoroughly tested, reliable, and performs as expected across different languages and locales.')"
   ]
  },
  {
   "cell_type": "code",
   "execution_count": null,
   "id": "0e828840-39ce-4ada-a3ea-df919659bbc6",
   "metadata": {},
   "outputs": [],
   "source": []
  }
 ],
 "metadata": {
  "kernelspec": {
   "display_name": "Python 3 (ipykernel)",
   "language": "python",
   "name": "python3"
  },
  "language_info": {
   "codemirror_mode": {
    "name": "ipython",
    "version": 3
   },
   "file_extension": ".py",
   "mimetype": "text/x-python",
   "name": "python",
   "nbconvert_exporter": "python",
   "pygments_lexer": "ipython3",
   "version": "3.10.12"
  }
 },
 "nbformat": 4,
 "nbformat_minor": 5
}
